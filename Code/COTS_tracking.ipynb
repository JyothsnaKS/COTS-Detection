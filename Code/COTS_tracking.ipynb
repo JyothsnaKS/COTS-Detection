{
 "cells": [
  {
   "cell_type": "code",
   "execution_count": null,
   "id": "e5b5bd57",
   "metadata": {},
   "outputs": [],
   "source": [
    "#Install norfair dependencies\n",
    "!pip install commonmark-0.9.1-py2.py3-none-any.whl\n",
    "!pip install rich-9.13.0-py3-none-any.whl\n",
    "#Install norfair\n",
    "! pip install norfair[metrics,video]"
   ]
  },
  {
   "cell_type": "code",
   "execution_count": null,
   "id": "cbf74686",
   "metadata": {},
   "outputs": [],
   "source": [
    "#imports\n",
    "import numpy as np\n",
    "from norfair import Detection, Tracker"
   ]
  },
  {
   "cell_type": "code",
   "execution_count": null,
   "id": "e2f907db",
   "metadata": {},
   "outputs": [],
   "source": [
    "##############################################################\n",
    "#                      Tracking helpers                      #\n",
    "##############################################################\n",
    "\n",
    "\n",
    "\n",
    "# Helper to convert bbox in format [x_min, y_min, x_max, y_max, score] to norfair.Detection class\n",
    "def to_norfair(detects, frame_id):\n",
    "    result = []\n",
    "    for x_min, y_min, x_max, y_max, score in detects:\n",
    "        xc, yc = (x_min + x_max) / 2, (y_min + y_max) / 2\n",
    "        w, h = x_max - x_min, y_max - y_min\n",
    "        result.append(Detection(points=np.array([xc, yc]), scores=np.array([score]), data=np.array([w, h, frame_id])))\n",
    "        \n",
    "    return result\n",
    "\n",
    "# Euclidean distance function to match detections on this frame with tracked_objects from previous frames\n",
    "def euclidean_distance(detection, tracked_object):\n",
    "    return np.linalg.norm(detection.points - tracked_object.estimate)"
   ]
  }
 ],
 "metadata": {
  "kernelspec": {
   "display_name": "Python 3",
   "language": "python",
   "name": "python3"
  },
  "language_info": {
   "codemirror_mode": {
    "name": "ipython",
    "version": 3
   },
   "file_extension": ".py",
   "mimetype": "text/x-python",
   "name": "python",
   "nbconvert_exporter": "python",
   "pygments_lexer": "ipython3",
   "version": "3.6.2"
  }
 },
 "nbformat": 4,
 "nbformat_minor": 5
}
